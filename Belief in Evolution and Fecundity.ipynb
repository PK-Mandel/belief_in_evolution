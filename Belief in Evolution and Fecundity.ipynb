{
 "cells": [
  {
   "cell_type": "code",
   "execution_count": 16,
   "metadata": {},
   "outputs": [
    {
     "name": "stdout",
     "output_type": "stream",
     "text": [
      "   Respondent ID  Collector ID              Start Date  \\\n",
      "0    10814837742     238615316  06/21/2019 02:29:58 PM   \n",
      "\n",
      "                 End Date  IP Address  Email Address  First Name  Last Name  \\\n",
      "0  06/21/2019 02:30:31 PM         NaN            NaN         NaN        NaN   \n",
      "\n",
      "                Custom Data 1 What is your gender?  \\\n",
      "0  a15512cf9a10fd5b4c0fc1a833               Female   \n",
      "\n",
      "   In what year were you born? (enter 4-digit birth year; for example, 1976)  \\\n",
      "0                                               1982                           \n",
      "\n",
      "  How many children do you have?  \\\n",
      "0                              3   \n",
      "\n",
      "  Which statement best matches your views on evolution?    Age  Gender  \\\n",
      "0  Humans and other organisms have changed over t...     30-44  Female   \n",
      "\n",
      "  Household Income           Region             Device Type  \n",
      "0  $25,000-$49,999  Middle Atlantic  Android Phone / Tablet  \n"
     ]
    }
   ],
   "source": [
    "import pandas as pd\n",
    "import matplotlib.pyplot as plt\n",
    "data = pd.read_csv(\"C:/Users/cveni/Desktop/evolution_survey.csv\")\n",
    "print(data.head(1))"
   ]
  },
  {
   "cell_type": "code",
   "execution_count": 13,
   "metadata": {},
   "outputs": [
    {
     "data": {
      "text/plain": [
       "Respondent ID                                                                  int64\n",
       "Collector ID                                                                   int64\n",
       "Start Date                                                                    object\n",
       "End Date                                                                      object\n",
       "IP Address                                                                   float64\n",
       "Email Address                                                                float64\n",
       "First Name                                                                   float64\n",
       "Last Name                                                                    float64\n",
       "Custom Data 1                                                                 object\n",
       "What is your gender?                                                          object\n",
       "In what year were you born? (enter 4-digit birth year; for example, 1976)      int64\n",
       "How many children do you have?                                                object\n",
       "Which statement best matches your views on evolution?                         object\n",
       "Age                                                                           object\n",
       "Gender                                                                        object\n",
       "Household Income                                                              object\n",
       "Region                                                                        object\n",
       "Device Type                                                                   object\n",
       "dtype: object"
      ]
     },
     "execution_count": 13,
     "metadata": {},
     "output_type": "execute_result"
    }
   ],
   "source": [
    "data.dtypes"
   ]
  },
  {
   "cell_type": "code",
   "execution_count": 15,
   "metadata": {},
   "outputs": [
    {
     "data": {
      "text/plain": [
       "str"
      ]
     },
     "execution_count": 15,
     "metadata": {},
     "output_type": "execute_result"
    }
   ],
   "source": [
    "type(data['Which statement best matches your views on evolution?'][0])"
   ]
  },
  {
   "cell_type": "code",
   "execution_count": 22,
   "metadata": {},
   "outputs": [
    {
     "data": {
      "text/plain": [
       "'Darwinian'"
      ]
     },
     "execution_count": 22,
     "metadata": {},
     "output_type": "execute_result"
    }
   ],
   "source": [
    "def abbreviator(view):\n",
    "    if view == 'Humans and other organisms have not changed since they were created.':\n",
    "        return 'creationist'\n",
    "    if view == 'Humans and other organisms have changed over time due to processes guided by God or a higher power.':\n",
    "        return 'theist'\n",
    "    if view == 'Humans and other organisms have changed over time through evolution by natural selection.':\n",
    "        return 'Darwinian'\n",
    "    else:\n",
    "        return 'silent'\n",
    "    \n",
    "abbreviator(data['Which statement best matches your views on evolution?'][2])"
   ]
  },
  {
   "cell_type": "code",
   "execution_count": 26,
   "metadata": {},
   "outputs": [
    {
     "data": {
      "text/plain": [
       "8        theist\n",
       "24    Darwinian\n",
       "Name: view, dtype: object"
      ]
     },
     "execution_count": 26,
     "metadata": {},
     "output_type": "execute_result"
    }
   ],
   "source": [
    "data['view'] = data['Which statement best matches your views on evolution?'].apply(abbreviator)\n",
    "\n",
    "data.view.sample(2)"
   ]
  },
  {
   "cell_type": "code",
   "execution_count": 28,
   "metadata": {},
   "outputs": [
    {
     "data": {
      "text/plain": [
       "str"
      ]
     },
     "execution_count": 28,
     "metadata": {},
     "output_type": "execute_result"
    }
   ],
   "source": [
    "type(data['How many children do you have?'][2])"
   ]
  },
  {
   "cell_type": "code",
   "execution_count": 32,
   "metadata": {},
   "outputs": [
    {
     "data": {
      "text/plain": [
       "None         53\n",
       "2            31\n",
       "3            15\n",
       "1            15\n",
       "5 or more     3\n",
       "4             1\n",
       "Name: How many children do you have?, dtype: int64"
      ]
     },
     "execution_count": 32,
     "metadata": {},
     "output_type": "execute_result"
    }
   ],
   "source": [
    "data['How many children do you have?'].value_counts()"
   ]
  },
  {
   "cell_type": "code",
   "execution_count": 40,
   "metadata": {},
   "outputs": [
    {
     "name": "stdout",
     "output_type": "stream",
     "text": [
      "3\n",
      "2\n",
      "1\n",
      "5\n",
      "2\n",
      "2\n",
      "1\n",
      "0\n",
      "1\n",
      "0\n"
     ]
    }
   ],
   "source": [
    "def make_integer(answer):\n",
    "    if answer == 'None':\n",
    "        return 0\n",
    "    if answer == '1':\n",
    "        return 1\n",
    "    if answer == '2':\n",
    "        return 2\n",
    "    if answer == '3':\n",
    "        return 3\n",
    "    if answer == '4':\n",
    "        return 4\n",
    "    if answer == '5 or more':\n",
    "        return 5\n",
    "for n in range(10):\n",
    "    print(make_integer(data['How many children do you have?'][n]))"
   ]
  },
  {
   "cell_type": "code",
   "execution_count": 42,
   "metadata": {},
   "outputs": [
    {
     "data": {
      "text/plain": [
       "19     3\n",
       "117    2\n",
       "38     1\n",
       "5      2\n",
       "97     2\n",
       "Name: kids, dtype: int64"
      ]
     },
     "execution_count": 42,
     "metadata": {},
     "output_type": "execute_result"
    }
   ],
   "source": [
    "data['kids'] = data['How many children do you have?'].apply(make_integer)\n",
    "data.kids.sample(5)"
   ]
  },
  {
   "cell_type": "code",
   "execution_count": 44,
   "metadata": {},
   "outputs": [
    {
     "data": {
      "text/plain": [
       "view\n",
       "Darwinian      1.272727\n",
       "creationist    0.333333\n",
       "silent         0.000000\n",
       "theist         1.285714\n",
       "Name: kids, dtype: float64"
      ]
     },
     "execution_count": 44,
     "metadata": {},
     "output_type": "execute_result"
    }
   ],
   "source": [
    "data.groupby('view').kids.mean()"
   ]
  },
  {
   "cell_type": "code",
   "execution_count": 54,
   "metadata": {},
   "outputs": [
    {
     "data": {
      "text/plain": [
       "28    42\n",
       "Name: age, dtype: int64"
      ]
     },
     "execution_count": 54,
     "metadata": {},
     "output_type": "execute_result"
    }
   ],
   "source": [
    "data['age'] = 2019 - data['In what year were you born? (enter 4-digit birth year; for example, 1976)']\n",
    "data.age.sample()"
   ]
  },
  {
   "cell_type": "code",
   "execution_count": 55,
   "metadata": {},
   "outputs": [
    {
     "data": {
      "text/plain": [
       "view\n",
       "Darwinian      1.650000\n",
       "creationist    1.000000\n",
       "silent         0.000000\n",
       "theist         1.727273\n",
       "Name: kids, dtype: float64"
      ]
     },
     "execution_count": 55,
     "metadata": {},
     "output_type": "execute_result"
    }
   ],
   "source": [
    "data[data.age > 40].groupby('view').kids.mean()"
   ]
  },
  {
   "cell_type": "code",
   "execution_count": 62,
   "metadata": {},
   "outputs": [
    {
     "data": {
      "text/html": [
       "<div>\n",
       "<style scoped>\n",
       "    .dataframe tbody tr th:only-of-type {\n",
       "        vertical-align: middle;\n",
       "    }\n",
       "\n",
       "    .dataframe tbody tr th {\n",
       "        vertical-align: top;\n",
       "    }\n",
       "\n",
       "    .dataframe thead th {\n",
       "        text-align: right;\n",
       "    }\n",
       "</style>\n",
       "<table border=\"1\" class=\"dataframe\">\n",
       "  <thead>\n",
       "    <tr style=\"text-align: right;\">\n",
       "      <th></th>\n",
       "      <th>Respondent ID</th>\n",
       "      <th>Collector ID</th>\n",
       "      <th>Start Date</th>\n",
       "      <th>End Date</th>\n",
       "      <th>IP Address</th>\n",
       "      <th>Email Address</th>\n",
       "      <th>First Name</th>\n",
       "      <th>Last Name</th>\n",
       "      <th>Custom Data 1</th>\n",
       "      <th>What is your gender?</th>\n",
       "      <th>...</th>\n",
       "      <th>How many children do you have?</th>\n",
       "      <th>Which statement best matches your views on evolution?</th>\n",
       "      <th>Age</th>\n",
       "      <th>Gender</th>\n",
       "      <th>Household Income</th>\n",
       "      <th>Region</th>\n",
       "      <th>Device Type</th>\n",
       "      <th>view</th>\n",
       "      <th>kids</th>\n",
       "      <th>age</th>\n",
       "    </tr>\n",
       "  </thead>\n",
       "  <tbody>\n",
       "    <tr>\n",
       "      <th>28</th>\n",
       "      <td>10814768055</td>\n",
       "      <td>238615316</td>\n",
       "      <td>06/21/2019 01:54:21 PM</td>\n",
       "      <td>06/21/2019 01:55:14 PM</td>\n",
       "      <td>NaN</td>\n",
       "      <td>NaN</td>\n",
       "      <td>NaN</td>\n",
       "      <td>NaN</td>\n",
       "      <td>01acedf028a1ccf5f9ce96b538</td>\n",
       "      <td>Male</td>\n",
       "      <td>...</td>\n",
       "      <td>None</td>\n",
       "      <td>Humans and other organisms have not changed si...</td>\n",
       "      <td>30-44</td>\n",
       "      <td>Male</td>\n",
       "      <td>$25,000-$49,999</td>\n",
       "      <td>East North Central</td>\n",
       "      <td>Android Phone / Tablet</td>\n",
       "      <td>creationist</td>\n",
       "      <td>0</td>\n",
       "      <td>42</td>\n",
       "    </tr>\n",
       "    <tr>\n",
       "      <th>32</th>\n",
       "      <td>10814765917</td>\n",
       "      <td>238615316</td>\n",
       "      <td>06/21/2019 01:54:45 PM</td>\n",
       "      <td>06/21/2019 01:55:00 PM</td>\n",
       "      <td>NaN</td>\n",
       "      <td>NaN</td>\n",
       "      <td>NaN</td>\n",
       "      <td>NaN</td>\n",
       "      <td>bf492ba448f6e76068049709e2</td>\n",
       "      <td>Male</td>\n",
       "      <td>...</td>\n",
       "      <td>1</td>\n",
       "      <td>Humans and other organisms have not changed si...</td>\n",
       "      <td>18-29</td>\n",
       "      <td>Male</td>\n",
       "      <td>$25,000-$49,999</td>\n",
       "      <td>Pacific</td>\n",
       "      <td>iOS Phone / Tablet</td>\n",
       "      <td>creationist</td>\n",
       "      <td>1</td>\n",
       "      <td>24</td>\n",
       "    </tr>\n",
       "    <tr>\n",
       "      <th>40</th>\n",
       "      <td>10814714459</td>\n",
       "      <td>238615316</td>\n",
       "      <td>06/21/2019 01:43:05 PM</td>\n",
       "      <td>06/21/2019 01:43:44 PM</td>\n",
       "      <td>NaN</td>\n",
       "      <td>NaN</td>\n",
       "      <td>NaN</td>\n",
       "      <td>NaN</td>\n",
       "      <td>713da386594593a730c3b1b1c8</td>\n",
       "      <td>Female</td>\n",
       "      <td>...</td>\n",
       "      <td>None</td>\n",
       "      <td>Humans and other organisms have not changed si...</td>\n",
       "      <td>18-29</td>\n",
       "      <td>Female</td>\n",
       "      <td>$25,000-$49,999</td>\n",
       "      <td>East North Central</td>\n",
       "      <td>iOS Phone / Tablet</td>\n",
       "      <td>creationist</td>\n",
       "      <td>0</td>\n",
       "      <td>25</td>\n",
       "    </tr>\n",
       "    <tr>\n",
       "      <th>45</th>\n",
       "      <td>10814690615</td>\n",
       "      <td>238615316</td>\n",
       "      <td>06/21/2019 01:30:25 PM</td>\n",
       "      <td>06/21/2019 01:31:05 PM</td>\n",
       "      <td>NaN</td>\n",
       "      <td>NaN</td>\n",
       "      <td>NaN</td>\n",
       "      <td>NaN</td>\n",
       "      <td>a7bc5915ff67ed3876664eff1f</td>\n",
       "      <td>Female</td>\n",
       "      <td>...</td>\n",
       "      <td>None</td>\n",
       "      <td>Humans and other organisms have not changed si...</td>\n",
       "      <td>18-29</td>\n",
       "      <td>Female</td>\n",
       "      <td>$0-$9,999</td>\n",
       "      <td>East North Central</td>\n",
       "      <td>iOS Phone / Tablet</td>\n",
       "      <td>creationist</td>\n",
       "      <td>0</td>\n",
       "      <td>23</td>\n",
       "    </tr>\n",
       "    <tr>\n",
       "      <th>52</th>\n",
       "      <td>10814678596</td>\n",
       "      <td>238615316</td>\n",
       "      <td>06/21/2019 01:24:36 PM</td>\n",
       "      <td>06/21/2019 01:25:00 PM</td>\n",
       "      <td>NaN</td>\n",
       "      <td>NaN</td>\n",
       "      <td>NaN</td>\n",
       "      <td>NaN</td>\n",
       "      <td>f03f14d2b51c206b9f2f0aaf2a</td>\n",
       "      <td>Male</td>\n",
       "      <td>...</td>\n",
       "      <td>None</td>\n",
       "      <td>Humans and other organisms have not changed si...</td>\n",
       "      <td>30-44</td>\n",
       "      <td>Male</td>\n",
       "      <td>$0-$9,999</td>\n",
       "      <td>NaN</td>\n",
       "      <td>Android Phone / Tablet</td>\n",
       "      <td>creationist</td>\n",
       "      <td>0</td>\n",
       "      <td>36</td>\n",
       "    </tr>\n",
       "    <tr>\n",
       "      <th>55</th>\n",
       "      <td>10814674739</td>\n",
       "      <td>238615316</td>\n",
       "      <td>06/21/2019 01:22:20 PM</td>\n",
       "      <td>06/21/2019 01:23:05 PM</td>\n",
       "      <td>NaN</td>\n",
       "      <td>NaN</td>\n",
       "      <td>NaN</td>\n",
       "      <td>NaN</td>\n",
       "      <td>9d6a49294b312a315506b2b9b6</td>\n",
       "      <td>Male</td>\n",
       "      <td>...</td>\n",
       "      <td>None</td>\n",
       "      <td>Humans and other organisms have not changed si...</td>\n",
       "      <td>18-29</td>\n",
       "      <td>Male</td>\n",
       "      <td>$10,000-$24,999</td>\n",
       "      <td>Mountain</td>\n",
       "      <td>Android Phone / Tablet</td>\n",
       "      <td>creationist</td>\n",
       "      <td>0</td>\n",
       "      <td>20</td>\n",
       "    </tr>\n",
       "    <tr>\n",
       "      <th>62</th>\n",
       "      <td>10814656285</td>\n",
       "      <td>238615316</td>\n",
       "      <td>06/21/2019 01:13:16 PM</td>\n",
       "      <td>06/21/2019 01:13:49 PM</td>\n",
       "      <td>NaN</td>\n",
       "      <td>NaN</td>\n",
       "      <td>NaN</td>\n",
       "      <td>NaN</td>\n",
       "      <td>fd96764c29a77cf8f679781fac</td>\n",
       "      <td>Male</td>\n",
       "      <td>...</td>\n",
       "      <td>None</td>\n",
       "      <td>Humans and other organisms have not changed si...</td>\n",
       "      <td>18-29</td>\n",
       "      <td>Male</td>\n",
       "      <td>$175,000-$199,999</td>\n",
       "      <td>Pacific</td>\n",
       "      <td>iOS Phone / Tablet</td>\n",
       "      <td>creationist</td>\n",
       "      <td>0</td>\n",
       "      <td>22</td>\n",
       "    </tr>\n",
       "    <tr>\n",
       "      <th>81</th>\n",
       "      <td>10812470482</td>\n",
       "      <td>238615316</td>\n",
       "      <td>06/20/2019 07:06:27 PM</td>\n",
       "      <td>06/20/2019 07:07:02 PM</td>\n",
       "      <td>NaN</td>\n",
       "      <td>NaN</td>\n",
       "      <td>NaN</td>\n",
       "      <td>NaN</td>\n",
       "      <td>d527fb128430d7b054b618eeaa</td>\n",
       "      <td>Male</td>\n",
       "      <td>...</td>\n",
       "      <td>2</td>\n",
       "      <td>Humans and other organisms have not changed si...</td>\n",
       "      <td>45-60</td>\n",
       "      <td>Male</td>\n",
       "      <td>$25,000-$49,999</td>\n",
       "      <td>Middle Atlantic</td>\n",
       "      <td>Android Phone / Tablet</td>\n",
       "      <td>creationist</td>\n",
       "      <td>2</td>\n",
       "      <td>50</td>\n",
       "    </tr>\n",
       "    <tr>\n",
       "      <th>100</th>\n",
       "      <td>10812203602</td>\n",
       "      <td>238615316</td>\n",
       "      <td>06/20/2019 04:35:50 PM</td>\n",
       "      <td>06/20/2019 04:36:11 PM</td>\n",
       "      <td>NaN</td>\n",
       "      <td>NaN</td>\n",
       "      <td>NaN</td>\n",
       "      <td>NaN</td>\n",
       "      <td>1dd6fe5bfd512cf32bb1420c4a</td>\n",
       "      <td>Male</td>\n",
       "      <td>...</td>\n",
       "      <td>None</td>\n",
       "      <td>Humans and other organisms have not changed si...</td>\n",
       "      <td>18-29</td>\n",
       "      <td>Male</td>\n",
       "      <td>$75,000-$99,999</td>\n",
       "      <td>West North Central</td>\n",
       "      <td>iOS Phone / Tablet</td>\n",
       "      <td>creationist</td>\n",
       "      <td>0</td>\n",
       "      <td>26</td>\n",
       "    </tr>\n",
       "  </tbody>\n",
       "</table>\n",
       "<p>9 rows × 21 columns</p>\n",
       "</div>"
      ],
      "text/plain": [
       "     Respondent ID  Collector ID              Start Date  \\\n",
       "28     10814768055     238615316  06/21/2019 01:54:21 PM   \n",
       "32     10814765917     238615316  06/21/2019 01:54:45 PM   \n",
       "40     10814714459     238615316  06/21/2019 01:43:05 PM   \n",
       "45     10814690615     238615316  06/21/2019 01:30:25 PM   \n",
       "52     10814678596     238615316  06/21/2019 01:24:36 PM   \n",
       "55     10814674739     238615316  06/21/2019 01:22:20 PM   \n",
       "62     10814656285     238615316  06/21/2019 01:13:16 PM   \n",
       "81     10812470482     238615316  06/20/2019 07:06:27 PM   \n",
       "100    10812203602     238615316  06/20/2019 04:35:50 PM   \n",
       "\n",
       "                   End Date  IP Address  Email Address  First Name  Last Name  \\\n",
       "28   06/21/2019 01:55:14 PM         NaN            NaN         NaN        NaN   \n",
       "32   06/21/2019 01:55:00 PM         NaN            NaN         NaN        NaN   \n",
       "40   06/21/2019 01:43:44 PM         NaN            NaN         NaN        NaN   \n",
       "45   06/21/2019 01:31:05 PM         NaN            NaN         NaN        NaN   \n",
       "52   06/21/2019 01:25:00 PM         NaN            NaN         NaN        NaN   \n",
       "55   06/21/2019 01:23:05 PM         NaN            NaN         NaN        NaN   \n",
       "62   06/21/2019 01:13:49 PM         NaN            NaN         NaN        NaN   \n",
       "81   06/20/2019 07:07:02 PM         NaN            NaN         NaN        NaN   \n",
       "100  06/20/2019 04:36:11 PM         NaN            NaN         NaN        NaN   \n",
       "\n",
       "                  Custom Data 1 What is your gender?  ...  \\\n",
       "28   01acedf028a1ccf5f9ce96b538                 Male  ...   \n",
       "32   bf492ba448f6e76068049709e2                 Male  ...   \n",
       "40   713da386594593a730c3b1b1c8               Female  ...   \n",
       "45   a7bc5915ff67ed3876664eff1f               Female  ...   \n",
       "52   f03f14d2b51c206b9f2f0aaf2a                 Male  ...   \n",
       "55   9d6a49294b312a315506b2b9b6                 Male  ...   \n",
       "62   fd96764c29a77cf8f679781fac                 Male  ...   \n",
       "81   d527fb128430d7b054b618eeaa                 Male  ...   \n",
       "100  1dd6fe5bfd512cf32bb1420c4a                 Male  ...   \n",
       "\n",
       "     How many children do you have?  \\\n",
       "28                             None   \n",
       "32                                1   \n",
       "40                             None   \n",
       "45                             None   \n",
       "52                             None   \n",
       "55                             None   \n",
       "62                             None   \n",
       "81                                2   \n",
       "100                            None   \n",
       "\n",
       "    Which statement best matches your views on evolution?    Age  Gender  \\\n",
       "28   Humans and other organisms have not changed si...     30-44    Male   \n",
       "32   Humans and other organisms have not changed si...     18-29    Male   \n",
       "40   Humans and other organisms have not changed si...     18-29  Female   \n",
       "45   Humans and other organisms have not changed si...     18-29  Female   \n",
       "52   Humans and other organisms have not changed si...     30-44    Male   \n",
       "55   Humans and other organisms have not changed si...     18-29    Male   \n",
       "62   Humans and other organisms have not changed si...     18-29    Male   \n",
       "81   Humans and other organisms have not changed si...     45-60    Male   \n",
       "100  Humans and other organisms have not changed si...     18-29    Male   \n",
       "\n",
       "      Household Income              Region             Device Type  \\\n",
       "28     $25,000-$49,999  East North Central  Android Phone / Tablet   \n",
       "32     $25,000-$49,999             Pacific      iOS Phone / Tablet   \n",
       "40     $25,000-$49,999  East North Central      iOS Phone / Tablet   \n",
       "45           $0-$9,999  East North Central      iOS Phone / Tablet   \n",
       "52           $0-$9,999                 NaN  Android Phone / Tablet   \n",
       "55     $10,000-$24,999            Mountain  Android Phone / Tablet   \n",
       "62   $175,000-$199,999             Pacific      iOS Phone / Tablet   \n",
       "81     $25,000-$49,999     Middle Atlantic  Android Phone / Tablet   \n",
       "100    $75,000-$99,999  West North Central      iOS Phone / Tablet   \n",
       "\n",
       "            view kids  age  \n",
       "28   creationist    0   42  \n",
       "32   creationist    1   24  \n",
       "40   creationist    0   25  \n",
       "45   creationist    0   23  \n",
       "52   creationist    0   36  \n",
       "55   creationist    0   20  \n",
       "62   creationist    0   22  \n",
       "81   creationist    2   50  \n",
       "100  creationist    0   26  \n",
       "\n",
       "[9 rows x 21 columns]"
      ]
     },
     "execution_count": 62,
     "metadata": {},
     "output_type": "execute_result"
    }
   ],
   "source": [
    "data[data.view == 'creationist']"
   ]
  },
  {
   "cell_type": "code",
   "execution_count": null,
   "metadata": {},
   "outputs": [],
   "source": []
  }
 ],
 "metadata": {
  "kernelspec": {
   "display_name": "Python 3",
   "language": "python",
   "name": "python3"
  },
  "language_info": {
   "codemirror_mode": {
    "name": "ipython",
    "version": 3
   },
   "file_extension": ".py",
   "mimetype": "text/x-python",
   "name": "python",
   "nbconvert_exporter": "python",
   "pygments_lexer": "ipython3",
   "version": "3.7.3"
  }
 },
 "nbformat": 4,
 "nbformat_minor": 2
}
